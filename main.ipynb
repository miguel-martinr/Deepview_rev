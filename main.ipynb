{
 "cells": [
  {
   "cell_type": "code",
   "execution_count": 79,
   "metadata": {},
   "outputs": [],
   "source": [
    "import os\n",
    "import re\n",
    "\n",
    "import cv2 as cv\n",
    "import matplotlib.pyplot as plt\n",
    "import numpy as np\n",
    "import pandas as pd\n",
    "import plotly.express as px"
   ]
  },
  {
   "cell_type": "markdown",
   "metadata": {},
   "source": [
    "# 1 Código Deepview"
   ]
  },
  {
   "cell_type": "markdown",
   "metadata": {},
   "source": [
    "## Filters"
   ]
  },
  {
   "cell_type": "code",
   "execution_count": 60,
   "metadata": {},
   "outputs": [],
   "source": [
    "## Preprocess\n",
    "\n",
    "# Gray \n",
    "def to_gray(frame, options=None):\n",
    "    if frame is None:\n",
    "      return None\n",
    "      \n",
    "    gray = cv.cvtColor(frame, cv.COLOR_BGR2GRAY)    \n",
    "    return gray\n",
    "\n",
    "gray_filter = {\n",
    "  \"name\": \"to_gray\",\n",
    "  \"filter\": to_gray,\n",
    "  \"options\": None,\n",
    "}\n",
    "\n",
    "\n",
    "# Skip dark\n",
    "def skip_dark(frame, options=None):\n",
    "  if frame is None:\n",
    "      return None\n",
    "\n",
    "  # Occupy 24,88% if the image\n",
    "  rectangles = [\n",
    "  ((157, 200), (587, 440)),\n",
    "  ((744, 420), (1174, 660)),\n",
    "  ((1331, 200), (1761, 440)),\n",
    "  ((157, 640), (587, 880)),\n",
    "  ((1331, 640), (1761, 880))\n",
    "  ]\n",
    "\n",
    "  mean_areas = []\n",
    "  for left_top, right_bottom in rectangles:\n",
    "    mean_areas.extend(frame[left_top[0]:right_bottom[0]][left_top[1]:right_bottom[1]])\n",
    "\n",
    "  min_brightness = options.get(\"min_brightness\")\n",
    "  if min_brightness is None:\n",
    "    min_brightness = 1\n",
    "\n",
    "\n",
    "  # Calculate brightness\n",
    "  brightness = np.mean(mean_areas)\n",
    "  return frame\n",
    "\n",
    "skip_dark_filter = {\n",
    "  \"name\": \"skip_dark\",\n",
    "  \"filter\": skip_dark,\n",
    "  \"options\": {\"min_brightness\": 1}\n",
    "}\n",
    "\n",
    "\n",
    "# Top hat\n",
    "def top_hat(frame, options):\n",
    "    \"\"\"Performs a top-hat operation on the given frame and returns the result.\"\"\"\n",
    "    # Getting the kernel to be used in Top-Hat\n",
    "\n",
    "    if frame is None:\n",
    "      return None\n",
    "      \n",
    "    filterSize = options[\"filterSize\"]\n",
    "    se = options[\"se\"]\n",
    "\n",
    "    kernel = cv.getStructuringElement(se,\n",
    "                                      filterSize)\n",
    "\n",
    "    # Applying the Top-Hat operation\n",
    "    filtered_frame = cv.morphologyEx(frame,\n",
    "                                     cv.MORPH_TOPHAT,\n",
    "                                     kernel)\n",
    "\n",
    "    return filtered_frame\n",
    "\n",
    "top_hat_filter = {\n",
    "    \"name\": \"top_hat\",\n",
    "    \"filter\": top_hat,\n",
    "    \"options\": {\"filterSize\": (9, 9), \"se\": cv.MORPH_ELLIPSE},\n",
    "}\n",
    "\n",
    "\n",
    "# Denoise\n",
    "def denoise(frame, options=None):\n",
    "  if frame is None:\n",
    "      return None\n",
    "  \n",
    "  return frame\n",
    "\n",
    "denoise_filter = {\n",
    "  \"name\": \"denoise\",\n",
    "  \"filter\": denoise,\n",
    "  \"options\": None,\n",
    "}\n",
    "\n",
    "\n",
    "\n",
    "## Process\n",
    "\n",
    "# Threshold\n",
    "def threshold(frame, options):\n",
    "  thresh = options['thresh']\n",
    "  maxValue = options['maxValue']\n",
    "  \n",
    "  thresh_frame = cv.threshold(frame, thresh, maxValue, cv.THRESH_BINARY)[1]\n",
    "  return thresh_frame\n",
    "\n",
    "threshold_filter = {\n",
    "  \"name\": \"threshold\",\n",
    "  \"filter\": threshold,\n",
    "  \"options\": {\n",
    "    \"thresh\": 20,\n",
    "    \"maxValue\": 255,\n",
    "  }\n",
    "}\n",
    "\n",
    "\n",
    "# Dilate\n",
    "def dilate(frame, options):\n",
    "  iterations = options['iterations']\n",
    "  kernelSize = options['kernelSize']\n",
    "  \n",
    "  # Definir el kernel para la dilatación\n",
    "  kernel = np.ones(kernelSize, np.uint8)\n",
    "\n",
    "  # Aplicar la dilatación a la imagen binaria\n",
    "  dilated_frame = cv.dilate(frame, kernel, iterations=iterations)\n",
    "  \n",
    "  return dilated_frame\n",
    "\n",
    "dilate_filter = {\n",
    "  \"name\": \"dilate\",\n",
    "  \"filter\": dilate,\n",
    "\n",
    "  \"options\": {\n",
    "    \"kernelSize\": (3, 3),\n",
    "    \"iterations\": 1,\n",
    "  }\n",
    "}\n"
   ]
  },
  {
   "cell_type": "code",
   "execution_count": 61,
   "metadata": {},
   "outputs": [],
   "source": [
    "# Filtros a aplicar sobre cada frame\n",
    "preprocess = [\n",
    "    # Pasar a escala de grises\n",
    "    gray_filter,\n",
    "\n",
    "    # Se ignoran los frames oscuros\n",
    "    skip_dark_filter,\n",
    "\n",
    "    # Homogeneizar fondo\n",
    "    top_hat_filter,\n",
    "\n",
    "    # Quitar ruido\n",
    "    denoise_filter,  # Actualmente no hace nada  \n",
    "]\n",
    "\n",
    "\n",
    "process = [\n",
    "    # Binarizar\n",
    "    threshold_filter,  \n",
    "]"
   ]
  },
  {
   "cell_type": "code",
   "execution_count": 62,
   "metadata": {},
   "outputs": [],
   "source": [
    "def execute_filters(frame, filters, options):\n",
    "    preprocessed = frame\n",
    "    for meta in filters:\n",
    "        filter = meta[\"filter\"]\n",
    "        \n",
    "        # Add default options\n",
    "        default_options = meta[\"options\"] \n",
    "        filter_options = {}\n",
    "\n",
    "        if (default_options is not None):\n",
    "          filter_options.update(default_options)\n",
    "        \n",
    "        specific_options = options.get(meta[\"name\"])\n",
    "\n",
    "        if specific_options is not None:                                \n",
    "            # Merge default and specific options\n",
    "            filter_options.update(specific_options) \n",
    "                                                 \n",
    "        preprocessed = filter(preprocessed, filter_options)\n",
    "\n",
    "    return preprocessed\n",
    "\n"
   ]
  },
  {
   "cell_type": "markdown",
   "metadata": {},
   "source": [
    "# 2 Helpers"
   ]
  },
  {
   "cell_type": "code",
   "execution_count": 63,
   "metadata": {},
   "outputs": [],
   "source": [
    "def show_img(frame):\n",
    "  try:\n",
    "    cv.imshow('frame', frame)\n",
    "    cv.waitKey(0)\n",
    "  except Exception as e:\n",
    "    print(e)\n",
    "  finally:\n",
    "    cv.destroyAllWindows()"
   ]
  },
  {
   "cell_type": "code",
   "execution_count": 64,
   "metadata": {},
   "outputs": [],
   "source": [
    "def read_frames_in_folder(folder, pattern=None):\n",
    "  frames = []\n",
    "  for file in os.listdir(folder):\n",
    "      if pattern and re.match(pattern, file):\n",
    "        frame = cv.imread(os.path.join(folder, file))          \n",
    "        frames.append({\n",
    "            \"file\": file,\n",
    "            \"frame\": frame,                         \n",
    "        })\n",
    "\n",
    "  return frames"
   ]
  },
  {
   "cell_type": "code",
   "execution_count": 65,
   "metadata": {},
   "outputs": [],
   "source": [
    "def plot_image_histogram(frame, **kwargs):\n",
    "    \n",
    "    # # Calcular el histograma de intensidades\n",
    "    # hist = cv.calcHist([frame], [0], None, [256], [0, 256])\n",
    "\n",
    "    # # Crear una figura utilizando Plotly Express\n",
    "    # fig = px.bar(x=list(range(256)), y=hist.flatten(), labels={'x': 'Intensidad', 'y': 'Frecuencia'},\n",
    "    #              title='Histograma de la imagen',\n",
    "    #              **kwargs)\n",
    "\n",
    "    # # Mostrar el histograma\n",
    "    # fig.show()\n",
    "\n",
    "\n",
    "    # Con matplotlib\n",
    "\n",
    "    plt.hist(frame.ravel(), 256, [0, 256])\n",
    "\n",
    "    # Escala logarítmica\n",
    "    plt.yscale('log')\n",
    "    plt.show()\n",
    "    "
   ]
  },
  {
   "cell_type": "markdown",
   "metadata": {},
   "source": [
    "# 3 Selección del umbral"
   ]
  },
  {
   "cell_type": "markdown",
   "metadata": {},
   "source": [
    "## 3.1 Otsu"
   ]
  },
  {
   "cell_type": "code",
   "execution_count": 66,
   "metadata": {},
   "outputs": [],
   "source": [
    "def otsu_threshold(frame, options={}):\n",
    "  try:\n",
    "    ret, thresh = cv.threshold(frame, 0, 255, cv.THRESH_BINARY + cv.THRESH_OTSU)    \n",
    "    return ret, thresh\n",
    "  except Exception as e:\n",
    "    print(e)\n",
    "    return None\n",
    "\n",
    "otsu_filter = {\n",
    "  \"name\": \"otsu\",\n",
    "  \"filter\": otsu_threshold,\n",
    "  \"options\": {},\n",
    "}"
   ]
  },
  {
   "cell_type": "code",
   "execution_count": 67,
   "metadata": {},
   "outputs": [
    {
     "data": {
      "text/plain": [
       "True"
      ]
     },
     "execution_count": 67,
     "metadata": {},
     "output_type": "execute_result"
    }
   ],
   "source": [
    "frame = cv.imread('.\\\\videos\\\\TunicadoC0013-26-11-2019-TF\\\\frame_1050.jpg')\n",
    "\n",
    "output_folder = '.\\\\videos\\\\TunicadoC0013-26-11-2019-TF\\\\frame_1050'\n",
    "os.makedirs(output_folder, exist_ok=True)\n",
    "\n",
    "gray = to_gray(frame, gray_filter[\"options\"])\n",
    "cv.imwrite(os.path.join(output_folder, 'gray.jpg'), gray)\n",
    "\n",
    "tophat = top_hat(gray, top_hat_filter[\"options\"])\n",
    "cv.imwrite(os.path.join(output_folder, 'tophat.jpg'), tophat)\n",
    "\n",
    "thresh = threshold(tophat, threshold_filter[\"options\"])\n",
    "cv.imwrite(os.path.join(output_folder, 'thresh.jpg'), thresh)\n",
    "\n",
    "used_otsu_threshold, otsu = otsu_threshold(tophat, otsu_filter[\"options\"])\n",
    "cv.imwrite(os.path.join(output_folder, 'otsu.jpg'), otsu)"
   ]
  },
  {
   "cell_type": "code",
   "execution_count": 68,
   "metadata": {},
   "outputs": [
    {
     "name": "stdout",
     "output_type": "stream",
     "text": [
      "Binarizado normal:  34\n",
      "Binarizado otsu:  23119\n"
     ]
    }
   ],
   "source": [
    "# Detecciones usando binarizado normal\n",
    "contours, hierarchy = cv.findContours(thresh, cv.RETR_TREE, cv.CHAIN_APPROX_SIMPLE)\n",
    "print(\"Binarizado normal: \", len(contours))\n",
    "\n",
    "# Detecciones usando binarizado otsu\n",
    "contours, hierarchy = cv.findContours(otsu, cv.RETR_TREE, cv.CHAIN_APPROX_SIMPLE)\n",
    "print(\"Binarizado otsu: \", len(contours))"
   ]
  },
  {
   "cell_type": "code",
   "execution_count": 69,
   "metadata": {},
   "outputs": [],
   "source": [
    "def otsu_vs_binary(\n",
    "  frames\n",
    "):\n",
    "  for i, frame in enumerate(frames):\n",
    "    gray = to_gray(frame, gray_filter[\"options\"])\n",
    "    tophat = top_hat(gray, top_hat_filter[\"options\"])\n",
    "    thresh = threshold(tophat, threshold_filter[\"options\"])\n",
    "    used_otsu_threshold, otsu = used_otsu_threshold(tophat, otsu_filter[\"options\"])\n",
    "\n",
    "    print(f\"Frame {i}\")\n",
    "    # Detecciones usando binarizado normal\n",
    "    contours, hierarchy = cv.findContours(thresh, cv.RETR_TREE, cv.CHAIN_APPROX_SIMPLE)\n",
    "    print(\"Binarizado normal: \", len(contours))\n",
    "\n",
    "    # Detecciones usando binarizado otsu\n",
    "    contours, hierarchy = cv.findContours(otsu, cv.RETR_TREE, cv.CHAIN_APPROX_SIMPLE)\n",
    "    print(\"Binarizado otsu: \", len(contours))"
   ]
  },
  {
   "cell_type": "code",
   "execution_count": 70,
   "metadata": {},
   "outputs": [],
   "source": [
    "folder = \".\\\\videos\\\\TunicadoC0013-26-11-2019-TF\"\n",
    "frames = read_frames_in_folder(\n",
    "  folder=folder,\n",
    "  pattern=re.compile(r\"frame_\\d+\\.jpg\")\n",
    ")\n",
    "\n",
    "frames = sorted(frames, key=lambda x: int(x[\"file\"].split(\"_\")[1].split(\".\")[0]))"
   ]
  },
  {
   "cell_type": "code",
   "execution_count": 71,
   "metadata": {},
   "outputs": [],
   "source": [
    "df = pd.DataFrame(columns=[\"filename\", \"binary\", \"otsu\", \"otsu_threshold\"])\n",
    "\n",
    "for i, frame in enumerate(frames):\n",
    "  gray = to_gray(frame[\"frame\"], gray_filter[\"options\"])\n",
    "  tophat = top_hat(gray, top_hat_filter[\"options\"])\n",
    "  thresh = threshold(tophat, {\n",
    "    \"thresh\": 20,\n",
    "    \"maxValue\": 255,\n",
    "  })\n",
    "\n",
    "  used_otsu_treshold, otsu = otsu_threshold(tophat, otsu_filter[\"options\"])\n",
    "\n",
    "  # Detecciones usando binarizado normal\n",
    "  contours, hierarchy = cv.findContours(thresh, cv.RETR_TREE, cv.CHAIN_APPROX_SIMPLE)\n",
    "  binary_detections = len(contours)\n",
    "\n",
    "  # Detecciones usando binarizado otsu\n",
    "  contours, hierarchy = cv.findContours(otsu, cv.RETR_TREE, cv.CHAIN_APPROX_SIMPLE)\n",
    "  otsu_detections = len(contours)\n",
    "\n",
    "  df.loc[i] = [frame[\"file\"], binary_detections, otsu_detections, used_otsu_treshold]\n",
    "\n",
    "  frames[i] = {\n",
    "    \"gray\": gray,\n",
    "    \"tophat\": tophat,\n",
    "    \"thresh\": thresh,\n",
    "    \"otsu\": otsu,\n",
    "    \"file\": frame[\"file\"],\n",
    "    \"frame\": frame[\"frame\"],\n",
    "  }"
   ]
  },
  {
   "cell_type": "code",
   "execution_count": 72,
   "metadata": {},
   "outputs": [],
   "source": [
    "def get_frame(filename):\n",
    "  found_frames = [f for f in frames if f[\"file\"] == filename]\n",
    "  if len(found_frames) > 0:\n",
    "    return found_frames[0]\n",
    "  else:\n",
    "    return None"
   ]
  },
  {
   "cell_type": "markdown",
   "metadata": {},
   "source": [
    "En la mayoría de frames seleccionados Otsu arroja un umbral de 0, por lo que los resultados nos son útiles. Sospecho que es debido a que los objetos son tan pequeños que no generan un pico en el histograma de la imagen (no es bimodal) "
   ]
  },
  {
   "cell_type": "code",
   "execution_count": 73,
   "metadata": {},
   "outputs": [
    {
     "data": {
      "text/html": [
       "<div>\n",
       "<style scoped>\n",
       "    .dataframe tbody tr th:only-of-type {\n",
       "        vertical-align: middle;\n",
       "    }\n",
       "\n",
       "    .dataframe tbody tr th {\n",
       "        vertical-align: top;\n",
       "    }\n",
       "\n",
       "    .dataframe thead th {\n",
       "        text-align: right;\n",
       "    }\n",
       "</style>\n",
       "<table border=\"1\" class=\"dataframe\">\n",
       "  <thead>\n",
       "    <tr style=\"text-align: right;\">\n",
       "      <th></th>\n",
       "      <th>filename</th>\n",
       "      <th>binary</th>\n",
       "      <th>otsu</th>\n",
       "      <th>otsu_threshold</th>\n",
       "    </tr>\n",
       "  </thead>\n",
       "  <tbody>\n",
       "    <tr>\n",
       "      <th>0</th>\n",
       "      <td>frame_150.jpg</td>\n",
       "      <td>8</td>\n",
       "      <td>22886</td>\n",
       "      <td>0.0</td>\n",
       "    </tr>\n",
       "    <tr>\n",
       "      <th>1</th>\n",
       "      <td>frame_300.jpg</td>\n",
       "      <td>20</td>\n",
       "      <td>22963</td>\n",
       "      <td>0.0</td>\n",
       "    </tr>\n",
       "    <tr>\n",
       "      <th>2</th>\n",
       "      <td>frame_450.jpg</td>\n",
       "      <td>24</td>\n",
       "      <td>22846</td>\n",
       "      <td>0.0</td>\n",
       "    </tr>\n",
       "    <tr>\n",
       "      <th>3</th>\n",
       "      <td>frame_600.jpg</td>\n",
       "      <td>11</td>\n",
       "      <td>23018</td>\n",
       "      <td>0.0</td>\n",
       "    </tr>\n",
       "    <tr>\n",
       "      <th>4</th>\n",
       "      <td>frame_750.jpg</td>\n",
       "      <td>6</td>\n",
       "      <td>23131</td>\n",
       "      <td>0.0</td>\n",
       "    </tr>\n",
       "    <tr>\n",
       "      <th>5</th>\n",
       "      <td>frame_900.jpg</td>\n",
       "      <td>16</td>\n",
       "      <td>19507</td>\n",
       "      <td>0.0</td>\n",
       "    </tr>\n",
       "    <tr>\n",
       "      <th>6</th>\n",
       "      <td>frame_1050.jpg</td>\n",
       "      <td>34</td>\n",
       "      <td>23119</td>\n",
       "      <td>0.0</td>\n",
       "    </tr>\n",
       "    <tr>\n",
       "      <th>7</th>\n",
       "      <td>frame_1200.jpg</td>\n",
       "      <td>34</td>\n",
       "      <td>22694</td>\n",
       "      <td>0.0</td>\n",
       "    </tr>\n",
       "    <tr>\n",
       "      <th>8</th>\n",
       "      <td>frame_1350.jpg</td>\n",
       "      <td>32</td>\n",
       "      <td>28</td>\n",
       "      <td>26.0</td>\n",
       "    </tr>\n",
       "    <tr>\n",
       "      <th>9</th>\n",
       "      <td>frame_1500.jpg</td>\n",
       "      <td>15</td>\n",
       "      <td>23007</td>\n",
       "      <td>0.0</td>\n",
       "    </tr>\n",
       "    <tr>\n",
       "      <th>10</th>\n",
       "      <td>frame_1650.jpg</td>\n",
       "      <td>15</td>\n",
       "      <td>23159</td>\n",
       "      <td>0.0</td>\n",
       "    </tr>\n",
       "    <tr>\n",
       "      <th>11</th>\n",
       "      <td>frame_1800.jpg</td>\n",
       "      <td>19</td>\n",
       "      <td>11</td>\n",
       "      <td>34.0</td>\n",
       "    </tr>\n",
       "    <tr>\n",
       "      <th>12</th>\n",
       "      <td>frame_1950.jpg</td>\n",
       "      <td>15</td>\n",
       "      <td>22694</td>\n",
       "      <td>0.0</td>\n",
       "    </tr>\n",
       "    <tr>\n",
       "      <th>13</th>\n",
       "      <td>frame_2100.jpg</td>\n",
       "      <td>18</td>\n",
       "      <td>22784</td>\n",
       "      <td>0.0</td>\n",
       "    </tr>\n",
       "    <tr>\n",
       "      <th>14</th>\n",
       "      <td>frame_2250.jpg</td>\n",
       "      <td>5</td>\n",
       "      <td>22961</td>\n",
       "      <td>0.0</td>\n",
       "    </tr>\n",
       "    <tr>\n",
       "      <th>15</th>\n",
       "      <td>frame_2400.jpg</td>\n",
       "      <td>22</td>\n",
       "      <td>23106</td>\n",
       "      <td>0.0</td>\n",
       "    </tr>\n",
       "  </tbody>\n",
       "</table>\n",
       "</div>"
      ],
      "text/plain": [
       "          filename  binary   otsu  otsu_threshold\n",
       "0    frame_150.jpg       8  22886             0.0\n",
       "1    frame_300.jpg      20  22963             0.0\n",
       "2    frame_450.jpg      24  22846             0.0\n",
       "3    frame_600.jpg      11  23018             0.0\n",
       "4    frame_750.jpg       6  23131             0.0\n",
       "5    frame_900.jpg      16  19507             0.0\n",
       "6   frame_1050.jpg      34  23119             0.0\n",
       "7   frame_1200.jpg      34  22694             0.0\n",
       "8   frame_1350.jpg      32     28            26.0\n",
       "9   frame_1500.jpg      15  23007             0.0\n",
       "10  frame_1650.jpg      15  23159             0.0\n",
       "11  frame_1800.jpg      19     11            34.0\n",
       "12  frame_1950.jpg      15  22694             0.0\n",
       "13  frame_2100.jpg      18  22784             0.0\n",
       "14  frame_2250.jpg       5  22961             0.0\n",
       "15  frame_2400.jpg      22  23106             0.0"
      ]
     },
     "execution_count": 73,
     "metadata": {},
     "output_type": "execute_result"
    }
   ],
   "source": [
    "df[[\n",
    "  \"filename\",\n",
    "  \"binary\",\n",
    "  \"otsu\",\n",
    "  \"otsu_threshold\",\n",
    "]]"
   ]
  },
  {
   "cell_type": "markdown",
   "metadata": {},
   "source": [
    "A excepción de dos casos en los que el umbral parece ser más razonable: frame 1350 y frame 1800. Comparemos los histogramas del frame 1350 con los de, por ejemplo, la imagen 900"
   ]
  },
  {
   "cell_type": "code",
   "execution_count": 74,
   "metadata": {},
   "outputs": [
    {
     "data": {
      "image/png": "[encoded data removed]",
      "text/plain": [
       "<Figure size 640x480 with 1 Axes>"
      ]
     },
     "metadata": {},
     "output_type": "display_data"
    }
   ],
   "source": [
    "plot_image_histogram(\n",
    "  get_frame(\"frame_1350.jpg\")[\"tophat\"],\n",
    "  # Escala logarítmica\n",
    "  log_y=True,\n",
    ")"
   ]
  },
  {
   "cell_type": "code",
   "execution_count": 75,
   "metadata": {},
   "outputs": [
    {
     "data": {
      "image/png": "[encoded data removed]",
      "text/plain": [
       "<Figure size 640x480 with 1 Axes>"
      ]
     },
     "metadata": {},
     "output_type": "display_data"
    }
   ],
   "source": [
    "plot_image_histogram(\n",
    "  get_frame(\"frame_900.jpg\")[\"tophat\"],\n",
    "  # Escala logarítmica\n",
    "  log_y=True,\n",
    ")"
   ]
  },
  {
   "cell_type": "code",
   "execution_count": 76,
   "metadata": {},
   "outputs": [],
   "source": [
    "show_img(get_frame(\"frame_1050.jpg\")[\"otsu\"])"
   ]
  },
  {
   "cell_type": "markdown",
   "metadata": {},
   "source": [
    "## 3.2 Detecciones vs Umbral"
   ]
  },
  {
   "cell_type": "code",
   "execution_count": 77,
   "metadata": {},
   "outputs": [],
   "source": [
    "selected_frames = [\n",
    "  \"frame_1050.jpg\"\n",
    "]\n",
    "\n",
    "def get_threshold_range():\n",
    "  return range(3, 50)"
   ]
  },
  {
   "cell_type": "code",
   "execution_count": 86,
   "metadata": {},
   "outputs": [
    {
     "data": {
      "image/png": "[encoded data removed]",
      "text/plain": [
       "<Figure size 640x480 with 1 Axes>"
      ]
     },
     "metadata": {},
     "output_type": "display_data"
    }
   ],
   "source": [
    "frame = get_frame(\"frame_1650.jpg\")\n",
    "\n",
    "treshold_df = pd.DataFrame(columns=[\"threshold\", \"detections\"])\n",
    "\n",
    "for threshold_value in get_threshold_range():\n",
    "    retophat = top_hat(frame[\"tophat\"], top_hat_filter[\"options\"])\n",
    "\n",
    "    thresh = threshold(retophat, {\n",
    "        \"thresh\": threshold_value,\n",
    "        \"maxValue\": 255,\n",
    "    })\n",
    "\n",
    "    dilated_thresh = dilate(thresh, {\n",
    "        'kernelSize': (3, 3),\n",
    "        'iterations': 1})\n",
    "\n",
    "    contours, hierarchy = cv.findContours(\n",
    "        dilated_thresh, cv.RETR_TREE, cv.CHAIN_APPROX_SIMPLE)\n",
    "    detections = len(contours)\n",
    "\n",
    "    treshold_df.loc[threshold_value] = [threshold_value, detections]\n",
    "\n",
    "# px.line(\n",
    "#     treshold_df,\n",
    "#     x=\"threshold\",\n",
    "#     y=\"detections\",\n",
    "#     title=\"Detecciones por umbral\",\n",
    "#     log_y=True,\n",
    "#     width=600\n",
    "# )\n",
    "\n",
    "# Line con matplotlib, escala logarítmica\n",
    "\n",
    "plt.plot(treshold_df[\"threshold\"], treshold_df[\"detections\"])\n",
    "plt.yscale(\"log\")\n"
   ]
  },
  {
   "cell_type": "markdown",
   "metadata": {},
   "source": [
    "No aparece de forma clara una forma de \"silla\" clara "
   ]
  }
 ],
 "metadata": {
  "kernelspec": {
   "display_name": "Python 3.9.1 ('deepview-rev-J0Z50y89-py3.9')",
   "language": "python",
   "name": "python3"
  },
  "language_info": {
   "codemirror_mode": {
    "name": "ipython",
    "version": 3
   },
   "file_extension": ".py",
   "mimetype": "text/x-python",
   "name": "python",
   "nbconvert_exporter": "python",
   "pygments_lexer": "ipython3",
   "version": "3.9.1"
  },
  "orig_nbformat": 4,
  "vscode": {
   "interpreter": {
    "hash": "dd6f496972fc5a508aa8a69733c3aedb7ba50255fd5315f585803c2c7d4cb0cb"
   }
  }
 },
 "nbformat": 4,
 "nbformat_minor": 2
}
